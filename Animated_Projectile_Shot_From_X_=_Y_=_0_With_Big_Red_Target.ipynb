{
  "nbformat": 4,
  "nbformat_minor": 0,
  "metadata": {
    "colab": {
      "provenance": [],
      "authorship_tag": "ABX9TyMTSfC663e5VlBnmn/qgKto",
      "include_colab_link": true
    },
    "kernelspec": {
      "name": "python3",
      "display_name": "Python 3"
    },
    "language_info": {
      "name": "python"
    }
  },
  "cells": [
    {
      "cell_type": "markdown",
      "metadata": {
        "id": "view-in-github",
        "colab_type": "text"
      },
      "source": [
        "<a href=\"https://colab.research.google.com/github/gary464/COLAB-For-Kinematics/blob/main/Animated_Projectile_Shot_From_X_%3D_Y_%3D_0_With_Big_Red_Target.ipynb\" target=\"_parent\"><img src=\"https://colab.research.google.com/assets/colab-badge.svg\" alt=\"Open In Colab\"/></a>"
      ]
    },
    {
      "cell_type": "code",
      "execution_count": null,
      "metadata": {
        "id": "-mdXAXQITpUa"
      },
      "outputs": [],
      "source": [
        "# Import some libraries\n",
        "\n",
        "import numpy as np\n",
        "import matplotlib.pyplot as plt\n",
        "import matplotlib.animation as animation\n",
        "\n",
        "# Create an array of 101 x's from 0 to 10 - this creates values 0f 0.0, 0.1, 0.2 ... 10.0\n",
        "t = np.linspace(0, 5, 101) # in s\n",
        "v = 30 #in m/s\n",
        "theta = 50 # (in degrees)\n",
        "\n",
        "# convert theat to radians\n",
        "theta_rad = theta * np.pi / 180\n",
        "\n",
        "# calculate initial vx and vy\n",
        "\n",
        "vx0 = v * np.cos(theta_rad)\n",
        "vy0 = v * np.sin(theta_rad)\n",
        "\n",
        "# Make x and y as functions of t\n",
        "x = vx0 * t\n",
        "y = vy0 * t + 0.5 * (- 9.81) * t**2  #remember, we use ** to raise a variable to a power\n",
        "\n",
        "# Create a figure and axis - we are doin this is a bit more of a complex way\n",
        "# in order to pass this plot into an animation procedure\n",
        "fig, ax = plt.subplots()\n",
        "\n",
        "# Plot the initial scatter plot\n",
        "# assign the PathCollection object to 'scatter_plot'\n",
        "scatter_plot = plt.scatter(x, y, marker ='o')\n",
        "\n",
        "def aniframes(frames, x, y, scatter_plot):\n",
        "    ax.clear()\n",
        "    # note - since we only want the current data point use 'frames not ':frames'\n",
        "    scatter_plot = plt.scatter(x[frames], y[frames], marker ='o')\n",
        "    # add a target\n",
        "    scatter_plot = plt.scatter(60,0,marker = 'o', s= 300, color = 'r')\n",
        "    ax.set_title('y = x ^ 2')\n",
        "    ax.set_xlabel('x')\n",
        "    ax.set_ylabel('y')\n",
        "    # sets grid lines for x and y\n",
        "    ax.grid(color='r', axis='y', linestyle='-', linewidth=.5, alpha=0.5)\n",
        "    ax.grid(color='g', axis='x', linestyle='-', linewidth=.5, alpha=0.5)\n",
        "    # Sets the axes for the scatterplot, if you don't do this the axes change and dot remains at center\n",
        "    ax.set_xlim(0,100)\n",
        "    ax.set_ylim(-10, 50)\n",
        "    return scatter_plot,\n",
        "\n",
        "ani = animation.FuncAnimation(fig, aniframes, frames = len(x), interval=100,\n",
        "                              fargs=[x, y, scatter_plot])\n",
        "ani.save('animated__dot_plot.gif', writer='pillow', fps=60)"
      ]
    }
  ]
}