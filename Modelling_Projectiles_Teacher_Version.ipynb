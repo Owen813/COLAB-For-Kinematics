{
  "nbformat": 4,
  "nbformat_minor": 0,
  "metadata": {
    "colab": {
      "provenance": [],
      "authorship_tag": "ABX9TyP7DYCJXThdzcAw31J76oJg",
      "include_colab_link": true
    },
    "kernelspec": {
      "name": "python3",
      "display_name": "Python 3"
    },
    "language_info": {
      "name": "python"
    }
  },
  "cells": [
    {
      "cell_type": "markdown",
      "metadata": {
        "id": "view-in-github",
        "colab_type": "text"
      },
      "source": [
        "<a href=\"https://colab.research.google.com/github/gary464/COLAB-For-Kinematics/blob/main/Modelling_Projectiles_Teacher_Version.ipynb\" target=\"_parent\"><img src=\"https://colab.research.google.com/assets/colab-badge.svg\" alt=\"Open In Colab\"/></a>"
      ]
    },
    {
      "cell_type": "markdown",
      "source": [
        "**This COLAB Notebook Demonstrates how we can create a model to simulate a mathematical funcation - In this case we are modelling Projectile Motion**\n",
        "\n",
        "The notebook first utilizes the standard kinematics formulas to create a plot of a projectile (note- we re using a scatter plot so we need individual points, the plot function could also be used to pplot the basic function).\n",
        "\n",
        "THe program then goes on to model the projectile using a simplification on how the velocity changes from on time to the next across intervals.\n",
        "\n",
        "The key teaching purpose to this Notebook is to show that computer models can be set up to model functions and as the time interval decreases the error falls dramatically.\n",
        "\n",
        "While we are unlikely to create a model to simulate a simple function (as in this notebook), as we start working with more complex functions or systems of functions, computer simulations can become a more practical solution to these complex situations."
      ],
      "metadata": {
        "id": "iA77ZFcKXZr0"
      }
    },
    {
      "cell_type": "markdown",
      "source": [
        "**Let's Import some needed libraries AND Initialize some variables**\n",
        "\n",
        "Note:  We will now change velocity such that we will simply have v0 (initial velocity) and an angle (measured in degrees)."
      ],
      "metadata": {
        "id": "BHCiKVvs5uQl"
      }
    },
    {
      "cell_type": "code",
      "execution_count": 2,
      "metadata": {
        "id": "qF0u_fDb5jOr"
      },
      "outputs": [],
      "source": [
        "import numpy as np\n",
        "import math\n",
        "import matplotlib.pyplot as plt\n",
        "\n",
        "x0 = 0\n",
        "y0 = 100\n",
        "v0 = 20\n",
        "angle = 60\n",
        "ax = 0\n",
        "ay = -9.81\n",
        "t = 0"
      ]
    },
    {
      "cell_type": "markdown",
      "source": [
        "**First let's Calculate the initial x and y velocities from the initial absolute velocity and the initial angle**\n",
        "\n",
        "The basic geometry of a launched object allows us to decompose the absolute velocity into the verticle and horizontal velocities using the the following equations:\n",
        "\n",
        "vx0 = v * cos(angle)\n",
        "\n",
        "vy0 = v * sin(angle)\n",
        "\n",
        "Numpy expects the angle to be in radians so we will first need to convert degrees to radians using the following:\n",
        "\n",
        "angle_radians = angle / 360 * 2 * np.pi"
      ],
      "metadata": {
        "id": "UKH1yvF_8Pel"
      }
    },
    {
      "cell_type": "code",
      "source": [
        "vx0 = v0 * np.cos((angle / 360) * 2 * np.pi)\n",
        "vy0 = v0 * np.sin((angle / 360) * 2 * np.pi)\n",
        "print('vx0 = ',vx0)\n",
        "print('vy0 = ',vy0)\n"
      ],
      "metadata": {
        "id": "M2UXOkRavzct",
        "colab": {
          "base_uri": "https://localhost:8080/"
        },
        "outputId": "c5ef0e06-a74b-47df-aa3b-198a005e9534"
      },
      "execution_count": 4,
      "outputs": [
        {
          "output_type": "stream",
          "name": "stdout",
          "text": [
            "vx0 =  10.000000000000002\n",
            "vy0 =  17.32050807568877\n"
          ]
        }
      ]
    },
    {
      "cell_type": "markdown",
      "source": [
        "**This WHILE LOOP Structure will generate our x and y location data as time progresses.**\n",
        "\n",
        "We will use the formula for accelerated motion in both the x an y directions.\n",
        "\n",
        "From Kinematics (in physics) the position of an obect that is accelerating at a constant rate is:\n",
        "\n",
        "x = x0 + vx0 * t + 0.5 * ax * t ^2  (note in python we will use ** instead of ^)\n",
        "\n",
        "For a projectile the object is travelling through the air.  First for simplicity we will assume that there is no air resistance.  This then allows us to assume that the only force acting on the projectile while in motion is gravity.  This then tells us that the acceleration in the x direction (ax) is equal to zero (since there is no air resistance) and the acceleration in the y direction is simply constant at the rate of the acceleration due to gravity on Earth's surface (9.81 m/s^2).  We set these variables in the first section.  Please note that the ay0 = -9.81.  The negative is included since acceleration is a vector and by convention, we are assuming that the downward direction is negative."
      ],
      "metadata": {
        "id": "dJAo6RuGJsHu"
      }
    },
    {
      "cell_type": "code",
      "source": [
        "# Create the arrays to store the x and y locations from our functions\n",
        "saved_x = [x0]\n",
        "saved_y = [y0]\n",
        "saved_t = [0]\n",
        "\n",
        "t = 1  # Here we set t = 1, the arrays saved_x etc already have the data point when t = 0\n",
        "\n",
        "# This while will run over and over until t is greater than 10 (from 0 - 10: 11 steps).\n",
        "while t <= 10:\n",
        "  saved_x.append(x0 + vx0 * t + 0.5 * ax * t ** 2)\n",
        "  saved_y.append(y0 + vy0 * t + 0.5 * ay * t ** 2)\n",
        "  saved_t.append(t)\n",
        "\n",
        "  t = t + 1"
      ],
      "metadata": {
        "id": "EoNXfkQRMDVg"
      },
      "execution_count": null,
      "outputs": []
    },
    {
      "cell_type": "markdown",
      "source": [
        "It is now time to plot the data to visualize the results\n",
        "\n",
        "First, let's plot just representations of x and y vs. time. We will plot our data using a scatter plot. The coding for the scatter plot comes from the library matplot.lib.pyplot which we loaded in our initial steps.\n",
        "\n",
        "Notice How easy it is to add titles and axis labels to plots in Python."
      ],
      "metadata": {
        "id": "J_Lvil2j5tKC"
      }
    },
    {
      "cell_type": "code",
      "source": [
        "scatter_plot = plt.scatter(saved_t, saved_x, label = 'x')\n",
        "scatter_plot = plt.scatter(saved_t, saved_y, label = 'y')\n",
        "plt.title('x And y vs. Time')\n",
        "plt.xlabel('Time')\n",
        "plt.ylabel('x and y ')\n",
        "plt.legend()\n",
        "plt.show()"
      ],
      "metadata": {
        "colab": {
          "base_uri": "https://localhost:8080/",
          "height": 472
        },
        "id": "XeDYRgQX51ss",
        "outputId": "7c2f1f7d-f152-43ce-9313-b1cc705346ec"
      },
      "execution_count": null,
      "outputs": [
        {
          "output_type": "display_data",
          "data": {
            "text/plain": [
              "<Figure size 640x480 with 1 Axes>"
            ],
            "image/png": "[encoded data removed]"
          },
          "metadata": {}
        }
      ]
    },
    {
      "cell_type": "markdown",
      "source": [
        "**Now plot y vs x so you can visualize the motion of the object in 2 dimensions**"
      ],
      "metadata": {
        "id": "fB8GrAmi57At"
      }
    },
    {
      "cell_type": "code",
      "source": [
        "scatter_plot = plt.scatter(saved_x, saved_y)\n",
        "plt.title('y vs x')\n",
        "plt.xlabel('x')\n",
        "plt.ylabel('y')\n",
        "plt.show()"
      ],
      "metadata": {
        "colab": {
          "base_uri": "https://localhost:8080/",
          "height": 472
        },
        "id": "lDuZ_JpY6FgV",
        "outputId": "0829bf40-5f3d-4d7e-de68-afd6169cefeb"
      },
      "execution_count": null,
      "outputs": [
        {
          "output_type": "display_data",
          "data": {
            "text/plain": [
              "<Figure size 640x480 with 1 Axes>"
            ],
            "image/png": "[encoded data removed]"
          },
          "metadata": {}
        }
      ]
    },
    {
      "cell_type": "markdown",
      "source": [
        "**Now let's create a model to simulate the projectile motion and compare it to the actual derivation.**\n",
        "\n",
        "Our simulation will simplify the math.  We will assume that at each time interval, the velocity of the object will change to a new velocity which is simply the old veoloicty + the change in velocity.  This formula looks like:\n",
        "\n",
        "v_new = v_old + accel * dt (new velocity = old velocity + the acceleration * change in time).\n",
        "\n",
        "We can then calculate the new x at the end of that time interval as\n",
        "\n",
        "x_new = x_old + v_new * dt (simply the new position = old position + how far the object moved during the time interval (v_new * dt).\n",
        "\n"
      ],
      "metadata": {
        "id": "0ksoRaaBo0dV"
      }
    },
    {
      "cell_type": "code",
      "source": [
        "# Create the arrays to store the x and y locations from our functions\n",
        "x_sim1 = x0\n",
        "y_sim1 = y0\n",
        "t_sim1 = 0\n",
        "\n",
        "# we will continue to use the same velocity and acceleration as our prior calcuation\n",
        "\n",
        "saved_x_sim1 = [x0]\n",
        "saved_y_sim1 = [y0]\n",
        "saved_t_sim1 = [0]\n",
        "\n",
        "t = 0 # Here we reset t = 0\n",
        "\n",
        "#We create a time interval (dt) for calculating the change in location during each pass of the loop\n",
        "\n",
        "dt = 1\n",
        "\n",
        "#Reset all variables to initial values\n",
        "x = x0\n",
        "y = y0\n",
        "vx = vx0\n",
        "vy = vy0\n",
        "\n",
        "t = 1  # set t = 1 since we already our data in the saved array when t = 0\n",
        "#This while will run over and over until t is greater than 10 (from 0 - 10: 10 steps).\n",
        "while t <= 10:\n",
        "\n",
        "# during each time interval, the object will move at the velocity it has at the beginning of that interval.\n",
        "\n",
        "# First we need to adjust the velocity (note we do not need t adjust vx since ax = 0)\n",
        "\n",
        "  vy = vy + ay * dt\n",
        "  x = x + vx * dt\n",
        "  y = y + vy * dt\n",
        "\n",
        "# Save our simulated values\n",
        "\n",
        "  saved_x_sim1.append(x)\n",
        "  saved_y_sim1.append(y)\n",
        "  saved_t_sim1.append(t)\n",
        "\n",
        "\n",
        "  t = t + dt\n"
      ],
      "metadata": {
        "id": "SuNESQO9pB8M"
      },
      "execution_count": null,
      "outputs": []
    },
    {
      "cell_type": "markdown",
      "source": [
        "**Plot both the mathematical slution and the model together to compare the results**\n",
        "\n"
      ],
      "metadata": {
        "id": "nL7ZE-r2UKn_"
      }
    },
    {
      "cell_type": "code",
      "source": [],
      "metadata": {
        "id": "FAqPpUZRW7XJ"
      },
      "execution_count": null,
      "outputs": []
    },
    {
      "cell_type": "code",
      "source": [
        "scatter_plot = plt.scatter(saved_x_sim1, saved_y_sim1, label = 'Simulation')\n",
        "scatter_plot = plt.scatter(saved_x, saved_y, label = \"Math\")\n",
        "plt.title('y vs. x')\n",
        "plt.xlabel('x')\n",
        "plt.ylabel('y')\n",
        "plt.legend()\n",
        "plt.show()"
      ],
      "metadata": {
        "id": "gWgRejUaQ3s_",
        "colab": {
          "base_uri": "https://localhost:8080/",
          "height": 472
        },
        "outputId": "3491701b-546f-43f3-c0ca-fda51fa48bc4"
      },
      "execution_count": null,
      "outputs": [
        {
          "output_type": "display_data",
          "data": {
            "text/plain": [
              "<Figure size 640x480 with 1 Axes>"
            ],
            "image/png": "[encoded data removed]"
          },
          "metadata": {}
        }
      ]
    },
    {
      "cell_type": "markdown",
      "source": [
        "**Suppose you want to show another simuation all on the same chart.**\n",
        "\n",
        "Copy the above 2 sections.  \n",
        "\n",
        "Change the variable from _sim1 to _sim2\n",
        "Adjust the time step to see how the time step effects your fit. Set the dt = 0.5\n",
        "\n",
        "Add a third scatter plot to your plotting.\n",
        "\n",
        "What do you observe about the impact of decreasing the time step?"
      ],
      "metadata": {
        "id": "AGuaQWhRUdW9"
      }
    },
    {
      "cell_type": "code",
      "source": [
        "# Create the arrays to store the x and y locations from our functions\n",
        "x_sim2 = x0\n",
        "y_sim2 = y0\n",
        "t_sim2 = 0\n",
        "\n",
        "# we will continue to use the same velocity and acceleration as our prior calcuation\n",
        "\n",
        "saved_x_sim2 = [x0]\n",
        "saved_y_sim2 = [y0]\n",
        "saved_t_sim2 = [0]\n",
        "\n",
        "t = 0 # Here we reset t = 0\n",
        "\n",
        "#Adjust dt here\n",
        "\n",
        "dt = .5\n",
        "\n",
        "#Reset all variables to initial values\n",
        "x = x0\n",
        "y = y0\n",
        "vx = vx0\n",
        "vy = vy0\n",
        "\n",
        "t = 0.5  # set t = 0.5 since we already our data in the saved array when t = 0\n",
        "#This while will run over and over until t is greater than 10 (from 0 - 10: 11 steps).\n",
        "while t <= 10:\n",
        "\n",
        "# during each time interval, the object will move at the velocity it has at the beginning of that interval.\n",
        "\n",
        "# First we need to adjust the velocity\n",
        "  vy = vy + ay * dt\n",
        "  x = x + vx * dt\n",
        "  y = y + vy * dt\n",
        "\n",
        "  saved_x_sim2.append(x)\n",
        "  saved_y_sim2.append(y)\n",
        "  saved_t_sim2.append(t)\n",
        "\n",
        "\n",
        "  t = t + dt\n",
        "\n",
        "\n",
        "scatter_plot = plt.scatter(saved_x_sim1, saved_y_sim1, label = 'Model dt = 1s')\n",
        "scatter_plot = plt.scatter(saved_x_sim2, saved_y_sim2, label = 'Model dt = 0.5s')\n",
        "scatter_plot = plt.scatter(saved_x, saved_y, label = \"Math\")\n",
        "plt.title('y vs. x')\n",
        "plt.xlabel('x')\n",
        "plt.ylabel('y')\n",
        "plt.legend()\n",
        "plt.show()"
      ],
      "metadata": {
        "id": "CueKIm19VDHk"
      },
      "execution_count": null,
      "outputs": []
    },
    {
      "cell_type": "markdown",
      "source": [
        "**FINALLY:**\n",
        "\n",
        "Go back to the previous section and change dt to 0.1s.\n",
        "\n",
        "Run the code and see how closely the simulation matches the mathematically calculated plot."
      ],
      "metadata": {
        "id": "2VQczEx0pKA5"
      }
    }
  ]
}