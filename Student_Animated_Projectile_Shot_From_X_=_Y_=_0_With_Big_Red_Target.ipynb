{
  "nbformat": 4,
  "nbformat_minor": 0,
  "metadata": {
    "colab": {
      "provenance": [],
      "authorship_tag": "ABX9TyOiJ+bqMNcbwSrXlO065Aqh",
      "include_colab_link": true
    },
    "kernelspec": {
      "name": "python3",
      "display_name": "Python 3"
    },
    "language_info": {
      "name": "python"
    }
  },
  "cells": [
    {
      "cell_type": "markdown",
      "metadata": {
        "id": "view-in-github",
        "colab_type": "text"
      },
      "source": [
        "<a href=\"https://colab.research.google.com/github/gary464/COLAB-For-Kinematics/blob/main/Student_Animated_Projectile_Shot_From_X_%3D_Y_%3D_0_With_Big_Red_Target.ipynb\" target=\"_parent\"><img src=\"https://colab.research.google.com/assets/colab-badge.svg\" alt=\"Open In Colab\"/></a>"
      ]
    },
    {
      "cell_type": "code",
      "execution_count": null,
      "metadata": {
        "id": "-mdXAXQITpUa"
      },
      "outputs": [],
      "source": [
        "# Import some libraries\n",
        "\n",
        "import numpy as np\n",
        "import matplotlib.pyplot as plt\n",
        "import matplotlib.animation as animation\n",
        "\n",
        "# Create an array of 101 x's from 0 to 10 - this creates values 0f 0.0, 0.1, 0.2 ... 10.0\n",
        "\n",
        "#HERE#\n",
        "\n",
        "# values for the initial velocity and angle\n",
        "\n",
        "v = 30 #in m/s\n",
        "theta = 50 # (in degrees)\n",
        "\n",
        "# convert theta to radians\n",
        "\n",
        "theta_rad = theta * np.pi / 180\n",
        "\n",
        "# calculate initial vx and vy\n",
        "\n",
        "vx0 = v * np.cos(theta_rad)\n",
        "vy0 = v * np.sin(theta_rad)\n",
        "\n",
        "# Make x and y as functions of t using v0 and kinematics\n",
        "\n",
        "x\n",
        "y   #remember, we use ** to raise a variable to a power\n",
        "\n",
        "# Use the animation code taught earlier to create an\n",
        "# animation of the projectile\n",
        "\n",
        "    # You can add a target by adding another scatter in func animation\n",
        "    #    scatter_plot = plt.scatter(60,0,marker = 'o', s= 300, color = 'r')\n"
      ]
    }
  ]
}